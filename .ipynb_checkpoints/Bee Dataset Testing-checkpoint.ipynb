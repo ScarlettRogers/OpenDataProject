{
 "cells": [
  {
   "cell_type": "code",
   "execution_count": 7,
   "metadata": {},
   "outputs": [],
   "source": [
    "import matplotlib\n",
    "import matplotlib.pyplot as plt\n",
    "import numpy as np\n",
    "import pandas as pd\n",
    "import os"
   ]
  },
  {
   "cell_type": "code",
   "execution_count": 19,
   "metadata": {},
   "outputs": [
    {
     "data": {
      "text/html": [
       "<div>\n",
       "<style scoped>\n",
       "    .dataframe tbody tr th:only-of-type {\n",
       "        vertical-align: middle;\n",
       "    }\n",
       "\n",
       "    .dataframe tbody tr th {\n",
       "        vertical-align: top;\n",
       "    }\n",
       "\n",
       "    .dataframe thead th {\n",
       "        text-align: right;\n",
       "    }\n",
       "</style>\n",
       "<table border=\"1\" class=\"dataframe\">\n",
       "  <thead>\n",
       "    <tr style=\"text-align: right;\">\n",
       "      <th></th>\n",
       "      <th>Year</th>\n",
       "      <th>Season</th>\n",
       "      <th>State</th>\n",
       "      <th>Total Annual Loss</th>\n",
       "      <th>Beekeepers</th>\n",
       "      <th>Beekeepers Exclusive to State</th>\n",
       "      <th>Colonies</th>\n",
       "      <th>Colonies Exclusive to State</th>\n",
       "    </tr>\n",
       "  </thead>\n",
       "  <tbody>\n",
       "    <tr>\n",
       "      <th>8</th>\n",
       "      <td>2016/17</td>\n",
       "      <td>Annual</td>\n",
       "      <td>Idaho</td>\n",
       "      <td>0.273</td>\n",
       "      <td>30</td>\n",
       "      <td>0.833</td>\n",
       "      <td>76794</td>\n",
       "      <td>0.019</td>\n",
       "    </tr>\n",
       "    <tr>\n",
       "      <th>242</th>\n",
       "      <td>2012/13</td>\n",
       "      <td>Annual</td>\n",
       "      <td>Georgia</td>\n",
       "      <td>0.490</td>\n",
       "      <td>70</td>\n",
       "      <td>0.857</td>\n",
       "      <td>14700</td>\n",
       "      <td>0.091</td>\n",
       "    </tr>\n",
       "    <tr>\n",
       "      <th>95</th>\n",
       "      <td>2015/16</td>\n",
       "      <td>Annual</td>\n",
       "      <td>Florida</td>\n",
       "      <td>0.569</td>\n",
       "      <td>58</td>\n",
       "      <td>0.897</td>\n",
       "      <td>51627</td>\n",
       "      <td>0.185</td>\n",
       "    </tr>\n",
       "    <tr>\n",
       "      <th>13</th>\n",
       "      <td>2016/17</td>\n",
       "      <td>Annual</td>\n",
       "      <td>Georgia</td>\n",
       "      <td>0.305</td>\n",
       "      <td>81</td>\n",
       "      <td>0.877</td>\n",
       "      <td>38443</td>\n",
       "      <td>0.082</td>\n",
       "    </tr>\n",
       "    <tr>\n",
       "      <th>176</th>\n",
       "      <td>2013/14</td>\n",
       "      <td>Annual</td>\n",
       "      <td>Washington</td>\n",
       "      <td>0.354</td>\n",
       "      <td>119</td>\n",
       "      <td>0.891</td>\n",
       "      <td>70806</td>\n",
       "      <td>0.016</td>\n",
       "    </tr>\n",
       "  </tbody>\n",
       "</table>\n",
       "</div>"
      ],
      "text/plain": [
       "        Year  Season       State   Total Annual Loss   Beekeepers  \\\n",
       "8    2016/17  Annual       Idaho               0.273           30   \n",
       "242  2012/13  Annual     Georgia               0.490           70   \n",
       "95   2015/16  Annual     Florida               0.569           58   \n",
       "13   2016/17  Annual     Georgia               0.305           81   \n",
       "176  2013/14  Annual  Washington               0.354          119   \n",
       "\n",
       "      Beekeepers Exclusive to State   Colonies   Colonies Exclusive to State  \n",
       "8                             0.833      76794                         0.019  \n",
       "242                           0.857      14700                         0.091  \n",
       "95                            0.897      51627                         0.185  \n",
       "13                            0.877      38443                         0.082  \n",
       "176                           0.891      70806                         0.016  "
      ]
     },
     "execution_count": 19,
     "metadata": {},
     "output_type": "execute_result"
    }
   ],
   "source": [
    "loss_data = pd.read_excel(\"colony_loss.xlsx\")\n",
    "loss_data.sample(5)"
   ]
  },
  {
   "cell_type": "code",
   "execution_count": 20,
   "metadata": {},
   "outputs": [
    {
     "data": {
      "text/html": [
       "<div>\n",
       "<style scoped>\n",
       "    .dataframe tbody tr th:only-of-type {\n",
       "        vertical-align: middle;\n",
       "    }\n",
       "\n",
       "    .dataframe tbody tr th {\n",
       "        vertical-align: top;\n",
       "    }\n",
       "\n",
       "    .dataframe thead th {\n",
       "        text-align: right;\n",
       "    }\n",
       "</style>\n",
       "<table border=\"1\" class=\"dataframe\">\n",
       "  <thead>\n",
       "    <tr style=\"text-align: right;\">\n",
       "      <th></th>\n",
       "      <th>Year</th>\n",
       "      <th>Season</th>\n",
       "      <th>State</th>\n",
       "      <th>TotalAnnualLoss</th>\n",
       "      <th>Beekeepers</th>\n",
       "      <th>BeekeepersExclusivetoState</th>\n",
       "      <th>Colonies</th>\n",
       "      <th>ColoniesExclusivetoState</th>\n",
       "    </tr>\n",
       "  </thead>\n",
       "  <tbody>\n",
       "    <tr>\n",
       "      <th>200</th>\n",
       "      <td>2013/14</td>\n",
       "      <td>Annual</td>\n",
       "      <td>Kansas</td>\n",
       "      <td>0.501</td>\n",
       "      <td>38</td>\n",
       "      <td>0.974</td>\n",
       "      <td>627</td>\n",
       "      <td>0.740</td>\n",
       "    </tr>\n",
       "    <tr>\n",
       "      <th>191</th>\n",
       "      <td>2013/14</td>\n",
       "      <td>Annual</td>\n",
       "      <td>Maryland</td>\n",
       "      <td>0.438</td>\n",
       "      <td>148</td>\n",
       "      <td>0.919</td>\n",
       "      <td>23241</td>\n",
       "      <td>0.081</td>\n",
       "    </tr>\n",
       "    <tr>\n",
       "      <th>5</th>\n",
       "      <td>2016/17</td>\n",
       "      <td>Annual</td>\n",
       "      <td>Hawaii</td>\n",
       "      <td>0.262</td>\n",
       "      <td>10</td>\n",
       "      <td>1.000</td>\n",
       "      <td>84</td>\n",
       "      <td>1.000</td>\n",
       "    </tr>\n",
       "    <tr>\n",
       "      <th>276</th>\n",
       "      <td>2011/12</td>\n",
       "      <td>Annual</td>\n",
       "      <td>Arizona</td>\n",
       "      <td>0.268</td>\n",
       "      <td>7</td>\n",
       "      <td>0.714</td>\n",
       "      <td>448</td>\n",
       "      <td>0.473</td>\n",
       "    </tr>\n",
       "    <tr>\n",
       "      <th>24</th>\n",
       "      <td>2016/17</td>\n",
       "      <td>Annual</td>\n",
       "      <td>District of Columbia</td>\n",
       "      <td>0.387</td>\n",
       "      <td>20</td>\n",
       "      <td>0.900</td>\n",
       "      <td>106</td>\n",
       "      <td>0.809</td>\n",
       "    </tr>\n",
       "  </tbody>\n",
       "</table>\n",
       "</div>"
      ],
      "text/plain": [
       "        Year  Season                 State  TotalAnnualLoss  Beekeepers  \\\n",
       "200  2013/14  Annual                Kansas            0.501          38   \n",
       "191  2013/14  Annual              Maryland            0.438         148   \n",
       "5    2016/17  Annual                Hawaii            0.262          10   \n",
       "276  2011/12  Annual               Arizona            0.268           7   \n",
       "24   2016/17  Annual  District of Columbia            0.387          20   \n",
       "\n",
       "     BeekeepersExclusivetoState  Colonies  ColoniesExclusivetoState  \n",
       "200                       0.974       627                     0.740  \n",
       "191                       0.919     23241                     0.081  \n",
       "5                         1.000        84                     1.000  \n",
       "276                       0.714       448                     0.473  \n",
       "24                        0.900       106                     0.809  "
      ]
     },
     "execution_count": 20,
     "metadata": {},
     "output_type": "execute_result"
    }
   ],
   "source": [
    "loss_data.columns = [x.replace('\\xa0', '') for x in loss_data.columns] # replaces \\xa0 with nothing\n",
    "loss_data.columns = [x.replace(' ', '') for x in loss_data.columns] # replaces space with nothing\n",
    "# allows for column referencing using df\n",
    "# e.g. df.State     df.TotalAnnualLoss\n",
    "# loss_data.rename(columns={ loss_data.columns[-1]: \"Index\" }, inplace = True)\n",
    "loss_data.sample(5)"
   ]
  },
  {
   "cell_type": "code",
   "execution_count": 11,
   "metadata": {},
   "outputs": [
    {
     "data": {
      "text/plain": [
       "<matplotlib.axes._subplots.AxesSubplot at 0x1cab17a36a0>"
      ]
     },
     "execution_count": 11,
     "metadata": {},
     "output_type": "execute_result"
    },
    {
     "data": {
      "image/png": "[encoded data removed]",
      "text/plain": [
       "<Figure size 432x288 with 1 Axes>"
      ]
     },
     "metadata": {
      "needs_background": "light"
     },
     "output_type": "display_data"
    }
   ],
   "source": [
    "# loss_data['TotalAnnualLoss']# > 0.5]#.hist(bins=1)\n",
    "# loss_data[\"TotalAnnualLoss\"].hist()\n",
    "if \"TotalAnnualLoss\" == None:\n",
    "    \n"
   ]
  },
  {
   "cell_type": "code",
   "execution_count": 59,
   "metadata": {},
   "outputs": [
    {
     "ename": "NameError",
     "evalue": "name 'row' is not defined",
     "output_type": "error",
     "traceback": [
      "\u001b[1;31m---------------------------------------------------------------------------\u001b[0m",
      "\u001b[1;31mNameError\u001b[0m                                 Traceback (most recent call last)",
      "\u001b[1;32m<ipython-input-59-136d1e00913d>\u001b[0m in \u001b[0;36m<module>\u001b[1;34m\u001b[0m\n\u001b[0;32m      2\u001b[0m \u001b[1;31m# df_gb.get_group(key)\u001b[0m\u001b[1;33m\u001b[0m\u001b[1;33m\u001b[0m\u001b[1;33m\u001b[0m\u001b[0m\n\u001b[0;32m      3\u001b[0m \u001b[1;33m\u001b[0m\u001b[0m\n\u001b[1;32m----> 4\u001b[1;33m \u001b[0mloss_data\u001b[0m \u001b[1;33m=\u001b[0m \u001b[0mloss_data\u001b[0m\u001b[1;33m.\u001b[0m\u001b[0mdropna\u001b[0m\u001b[1;33m(\u001b[0m\u001b[0mhow\u001b[0m\u001b[1;33m=\u001b[0m\u001b[1;34m'any'\u001b[0m\u001b[1;33m,\u001b[0m\u001b[0maxis\u001b[0m\u001b[1;33m=\u001b[0m\u001b[0mrow\u001b[0m\u001b[1;33m)\u001b[0m\u001b[1;33m\u001b[0m\u001b[1;33m\u001b[0m\u001b[0m\n\u001b[0m\u001b[0;32m      5\u001b[0m \u001b[1;33m\u001b[0m\u001b[0m\n\u001b[0;32m      6\u001b[0m \u001b[0mthings\u001b[0m \u001b[1;33m=\u001b[0m \u001b[0mloss_data\u001b[0m\u001b[1;33m.\u001b[0m\u001b[0mgroupby\u001b[0m\u001b[1;33m(\u001b[0m\u001b[1;33m[\u001b[0m\u001b[1;34m\"State\"\u001b[0m\u001b[1;33m]\u001b[0m\u001b[1;33m)\u001b[0m\u001b[1;33m.\u001b[0m\u001b[0mTotalAnnualLoss\u001b[0m\u001b[1;33m.\u001b[0m\u001b[0mmean\u001b[0m\u001b[1;33m(\u001b[0m\u001b[1;33m)\u001b[0m\u001b[1;31m#.groups\u001b[0m\u001b[1;33m\u001b[0m\u001b[1;33m\u001b[0m\u001b[0m\n",
      "\u001b[1;31mNameError\u001b[0m: name 'row' is not defined"
     ]
    }
   ],
   "source": [
    "# df_gb = df.groupby(['EmployeeNumber'])\n",
    "# df_gb.get_group(key)\n",
    "\n",
    "loss_data = loss_data.dropna(how='any',axis='index', Inplace=True) \n",
    "loss_data.drop_na\n",
    "\n",
    "things = loss_data.groupby([\"State\"]).TotalAnnualLoss.mean()#.groups\n",
    "\n",
    "\n",
    "# things['TotalAnnualLoss'] = pd.Series([round(val, 2) for val in things['TotalAnnualLoss']], index = things.index)\n",
    "# things['var3'] = pd.Series([\"{0:.2f}%\".format(val * 100) for val in things['var3']], index = things.index)\n",
    "# df = pd.DataFrame(things)\n",
    "things\n",
    "# .mean()\n",
    "# things.keys\n",
    "\n",
    "\n",
    "# if \"TotalAnnualLoss\" == None:"
   ]
  },
  {
   "cell_type": "code",
   "execution_count": null,
   "metadata": {},
   "outputs": [],
   "source": []
  },
  {
   "cell_type": "code",
   "execution_count": null,
   "metadata": {},
   "outputs": [],
   "source": []
  },
  {
   "cell_type": "code",
   "execution_count": null,
   "metadata": {},
   "outputs": [],
   "source": []
  }
 ],
 "metadata": {
  "kernelspec": {
   "display_name": "Python 3",
   "language": "python",
   "name": "python3"
  },
  "language_info": {
   "codemirror_mode": {
    "name": "ipython",
    "version": 3
   },
   "file_extension": ".py",
   "mimetype": "text/x-python",
   "name": "python",
   "nbconvert_exporter": "python",
   "pygments_lexer": "ipython3",
   "version": "3.7.3"
  }
 },
 "nbformat": 4,
 "nbformat_minor": 2
}
