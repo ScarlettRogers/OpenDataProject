{
 "cells": [
  {
   "cell_type": "code",
   "execution_count": 1,
   "metadata": {},
   "outputs": [],
   "source": [
    "import matplotlib\n",
    "import matplotlib.pyplot as plt\n",
    "import numpy as np\n",
    "import pandas as pd\n",
    "import os"
   ]
  },
  {
   "cell_type": "code",
   "execution_count": 2,
   "metadata": {},
   "outputs": [
    {
     "data": {
      "text/html": [
       "<div>\n",
       "<style scoped>\n",
       "    .dataframe tbody tr th:only-of-type {\n",
       "        vertical-align: middle;\n",
       "    }\n",
       "\n",
       "    .dataframe tbody tr th {\n",
       "        vertical-align: top;\n",
       "    }\n",
       "\n",
       "    .dataframe thead th {\n",
       "        text-align: right;\n",
       "    }\n",
       "</style>\n",
       "<table border=\"1\" class=\"dataframe\">\n",
       "  <thead>\n",
       "    <tr style=\"text-align: right;\">\n",
       "      <th></th>\n",
       "      <th>Year</th>\n",
       "      <th>Season</th>\n",
       "      <th>State</th>\n",
       "      <th>Total Annual Loss</th>\n",
       "      <th>Beekeepers</th>\n",
       "      <th>Beekeepers Exclusive to State</th>\n",
       "      <th>Colonies</th>\n",
       "      <th>Colonies Exclusive to State</th>\n",
       "    </tr>\n",
       "  </thead>\n",
       "  <tbody>\n",
       "    <tr>\n",
       "      <th>252</th>\n",
       "      <td>2012/13</td>\n",
       "      <td>Annual</td>\n",
       "      <td>Mississippi</td>\n",
       "      <td>0.602</td>\n",
       "      <td>26</td>\n",
       "      <td>0.808</td>\n",
       "      <td>156746</td>\n",
       "      <td>0.007</td>\n",
       "    </tr>\n",
       "    <tr>\n",
       "      <th>266</th>\n",
       "      <td>2011/12</td>\n",
       "      <td>Annual</td>\n",
       "      <td>Michigan</td>\n",
       "      <td>0.221</td>\n",
       "      <td>106</td>\n",
       "      <td>0.972</td>\n",
       "      <td>9699</td>\n",
       "      <td>0.131</td>\n",
       "    </tr>\n",
       "    <tr>\n",
       "      <th>295</th>\n",
       "      <td>2011/12</td>\n",
       "      <td>Annual</td>\n",
       "      <td>Colorado</td>\n",
       "      <td>0.379</td>\n",
       "      <td>67</td>\n",
       "      <td>0.985</td>\n",
       "      <td>891</td>\n",
       "      <td>0.768</td>\n",
       "    </tr>\n",
       "    <tr>\n",
       "      <th>28</th>\n",
       "      <td>2016/17</td>\n",
       "      <td>Annual</td>\n",
       "      <td>Kentucky</td>\n",
       "      <td>0.405</td>\n",
       "      <td>50</td>\n",
       "      <td>0.940</td>\n",
       "      <td>3603</td>\n",
       "      <td>0.278</td>\n",
       "    </tr>\n",
       "    <tr>\n",
       "      <th>356</th>\n",
       "      <td>2010/11</td>\n",
       "      <td>Annual</td>\n",
       "      <td>Iowa</td>\n",
       "      <td>0.807</td>\n",
       "      <td>14</td>\n",
       "      <td>0.857</td>\n",
       "      <td>1037</td>\n",
       "      <td>0.688</td>\n",
       "    </tr>\n",
       "  </tbody>\n",
       "</table>\n",
       "</div>"
      ],
      "text/plain": [
       "        Year  Season        State   Total Annual Loss   Beekeepers  \\\n",
       "252  2012/13  Annual  Mississippi               0.602           26   \n",
       "266  2011/12  Annual     Michigan               0.221          106   \n",
       "295  2011/12  Annual     Colorado               0.379           67   \n",
       "28   2016/17  Annual     Kentucky               0.405           50   \n",
       "356  2010/11  Annual         Iowa               0.807           14   \n",
       "\n",
       "      Beekeepers Exclusive to State   Colonies   Colonies Exclusive to State  \n",
       "252                           0.808     156746                         0.007  \n",
       "266                           0.972       9699                         0.131  \n",
       "295                           0.985        891                         0.768  \n",
       "28                            0.940       3603                         0.278  \n",
       "356                           0.857       1037                         0.688  "
      ]
     },
     "execution_count": 2,
     "metadata": {},
     "output_type": "execute_result"
    }
   ],
   "source": [
    "loss_data = pd.read_excel(\"colony_loss.xlsx\")\n",
    "loss_data.sample(5)"
   ]
  },
  {
   "cell_type": "code",
   "execution_count": 3,
   "metadata": {},
   "outputs": [],
   "source": [
    "loss_data.columns = [x.replace('\\xa0', '') for x in loss_data.columns] # replaces \\xa0 with nothing\n",
    "loss_data.columns = [x.replace(' ', '') for x in loss_data.columns] # replaces space with nothing\n",
    "loss_data.columns\n",
    "# allows for column referencing using df\n",
    "# e.g. df.State     df.TotalAnnualLoss"
   ]
  },
  {
   "cell_type": "code",
   "execution_count": 4,
   "metadata": {},
   "outputs": [],
   "source": [
    "# loss_data['TotalAnnualLoss']# > 0.5]#.hist(bins=15)"
   ]
  },
  {
   "cell_type": "code",
   "execution_count": null,
   "metadata": {},
   "outputs": [],
   "source": []
  },
  {
   "cell_type": "code",
   "execution_count": null,
   "metadata": {},
   "outputs": [],
   "source": []
  },
  {
   "cell_type": "code",
   "execution_count": null,
   "metadata": {},
   "outputs": [],
   "source": []
  },
  {
   "cell_type": "code",
   "execution_count": null,
   "metadata": {},
   "outputs": [],
   "source": []
  }
 ],
 "metadata": {
  "kernelspec": {
   "display_name": "Python 3",
   "language": "python",
   "name": "python3"
  },
  "language_info": {
   "codemirror_mode": {
    "name": "ipython",
    "version": 3
   },
   "file_extension": ".py",
   "mimetype": "text/x-python",
   "name": "python",
   "nbconvert_exporter": "python",
   "pygments_lexer": "ipython3",
   "version": "3.7.3"
  }
 },
 "nbformat": 4,
 "nbformat_minor": 2
}
